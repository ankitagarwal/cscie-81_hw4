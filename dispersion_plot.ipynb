{
 "cells": [
  {
   "cell_type": "code",
   "execution_count": 15,
   "metadata": {
    "collapsed": true
   },
   "outputs": [],
   "source": [
    "%matplotlib inline\n",
    "\n",
    "import pymysql\n",
    "from config import *\n",
    "from nltk.draw.dispersion import dispersion_plot "
   ]
  },
  {
   "cell_type": "code",
   "execution_count": 16,
   "metadata": {
    "collapsed": true
   },
   "outputs": [],
   "source": [
    "\n",
    "#########\n",
    "# Open a MySQL connection. Should be triggered by the caller before running\n",
    "# the scraper, if the caller is using MySQL\n",
    "#########\n",
    "def openCon():\n",
    "    global conn\n",
    "    global cur\n",
    "    conn = pymysql.connect(host=MYSQL_HOST, port=MYSQL_PORT, user=MYSQL_USER, passwd=MYSQL_PASSWORD, db='mysql', charset='utf8')\n",
    "\n",
    "    cur = conn.cursor(pymysql.cursors.DictCursor)\n",
    "    cur.execute(\"USE shakespeare\")"
   ]
  },
  {
   "cell_type": "code",
   "execution_count": 18,
   "metadata": {
    "collapsed": false
   },
   "outputs": [
    {
     "data": {
      "image/png": "[encoded data removed]",
      "text/plain": [
       "<matplotlib.figure.Figure at 0x7f26be33d978>"
      ]
     },
     "metadata": {},
     "output_type": "display_data"
    }
   ],
   "source": [
    "openCon()\n",
    "cur.execute(\"Select * from words ORDER BY frequency DESC LIMIT 0, 20\")\n",
    "words = []\n",
    "plays = {}\n",
    "for row in cur:\n",
    "    words.append(row['word'])\n",
    "cur.execute(\"SET SESSION group_concat_max_len = 1000000;\")\n",
    "cur.execute(\"Select plays.id, plays.title, GROUP_CONCAT(lineText SEPARATOR ' ') AS fullSceneText from plays JOIN scenes ON plays.id = scenes.id JOIN sentences ON sentences.sceneId = scenes.id GROUP BY plays.id\")\n",
    "for row in cur:\n",
    "    plays[row['title']] = row['fullSceneText']\n",
    "\n",
    "for title,  text in plays.items():\n",
    "    dispersion_plot(text, words, True, \"Lexical Dispersion Plot \\n Play title - \" + title)\n",
    "    break"
   ]
  },
  {
   "cell_type": "code",
   "execution_count": null,
   "metadata": {
    "collapsed": true
   },
   "outputs": [],
   "source": []
  }
 ],
 "metadata": {
  "kernelspec": {
   "display_name": "Python 3",
   "language": "python",
   "name": "python3"
  },
  "language_info": {
   "codemirror_mode": {
    "name": "ipython",
    "version": 3
   },
   "file_extension": ".py",
   "mimetype": "text/x-python",
   "name": "python",
   "nbconvert_exporter": "python",
   "pygments_lexer": "ipython3",
   "version": "3.4.3"
  }
 },
 "nbformat": 4,
 "nbformat_minor": 0
}
